{
 "cells": [
  {
   "cell_type": "markdown",
   "id": "1d248b5f-28a3-42f5-9c14-304faf50c6f4",
   "metadata": {},
   "source": [
    "### Logistic Regression synthetic dataset"
   ]
  },
  {
   "cell_type": "code",
   "execution_count": 1,
   "id": "ec112730-5d76-4449-958b-6b34205f8341",
   "metadata": {},
   "outputs": [],
   "source": [
    "import sys\n",
    "sys.path.insert(0, 'C:\\\\Users\\\\Noah\\\\Statistics-Handbooks') # add path to syspath where top-level of package is\n",
    "\n",
    "from DataGenerator import DataGenerator\n",
    "import matplotlib.pyplot as plt\n",
    "import seaborn as sns"
   ]
  },
  {
   "cell_type": "code",
   "execution_count": 14,
   "id": "7721346f-f6f7-4756-b062-1b2a7202dd54",
   "metadata": {},
   "outputs": [
    {
     "data": {
      "text/plain": [
       "array([[0.00284083, 0.0532994 , 1.        ],\n",
       "       [0.37824694, 0.61501784, 1.        ],\n",
       "       [0.45881327, 0.67735756, 1.        ],\n",
       "       ...,\n",
       "       [0.1987613 , 0.44582654, 1.        ],\n",
       "       [0.5242254 , 0.72403411, 1.        ],\n",
       "       [0.05992847, 0.24480293, 1.        ]])"
      ]
     },
     "execution_count": 14,
     "metadata": {},
     "output_type": "execute_result"
    }
   ],
   "source": [
    "dg = DataGenerator(seed=20)\n",
    "slr = dg.generate_synthetic_logisticregression(degrees = [2], coefficients=[1,0,0])\n",
    "slr[1]\n",
    "slr[0]"
   ]
  }
 ],
 "metadata": {
  "kernelspec": {
   "display_name": "Python 3 (ipykernel)",
   "language": "python",
   "name": "python3"
  },
  "language_info": {
   "codemirror_mode": {
    "name": "ipython",
    "version": 3
   },
   "file_extension": ".py",
   "mimetype": "text/x-python",
   "name": "python",
   "nbconvert_exporter": "python",
   "pygments_lexer": "ipython3",
   "version": "3.12.2"
  }
 },
 "nbformat": 4,
 "nbformat_minor": 5
}
